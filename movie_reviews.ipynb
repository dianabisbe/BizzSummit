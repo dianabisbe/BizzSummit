{
 "cells": [
  {
   "cell_type": "markdown",
   "metadata": {},
   "source": [
    "### Data Super Heroes - Python, Web Scraping"
   ]
  },
  {
   "cell_type": "markdown",
   "metadata": {},
   "source": [
    "1. Install Selenium and Scrapy\n",
    "\n",
    "-   Selenium: to load the reviews.\n",
    "-   Scrapy: to extract the relevant information."
   ]
  },
  {
   "cell_type": "code",
   "execution_count": null,
   "metadata": {},
   "outputs": [],
   "source": [
    "! pip install selenium\n",
    "! pip install scrapy"
   ]
  },
  {
   "cell_type": "markdown",
   "metadata": {},
   "source": [
    "2. Dowload Chrome Driver"
   ]
  },
  {
   "cell_type": "markdown",
   "metadata": {},
   "source": [
    "3. Importing dependencies"
   ]
  },
  {
   "cell_type": "code",
   "execution_count": 18,
   "metadata": {},
   "outputs": [],
   "source": [
    "import numpy as np\n",
    "import pandas as pd\n",
    "from scrapy.selector import Selector\n",
    "from selenium import webdriver \n",
    "from selenium.webdriver.common.by import By\n",
    "from selenium.webdriver.common.keys import Keys\n",
    "import time\n",
    "from tqdm import tqdm\n",
    "import warnings\n",
    "warnings.filterwarnings(\"ignore\")"
   ]
  },
  {
   "cell_type": "markdown",
   "metadata": {},
   "source": [
    "4. Selenium test"
   ]
  },
  {
   "cell_type": "code",
   "execution_count": 20,
   "metadata": {},
   "outputs": [
    {
     "name": "stdout",
     "output_type": "stream",
     "text": [
      "Oppenheimer (2023) - Oppenheimer (2023) - User Reviews - IMDb\n"
     ]
    }
   ],
   "source": [
    "driver = webdriver.Chrome()\n",
    "url = 'https://www.imdb.com/title/tt15398776/reviews/?ref_=tt_ql_2'\n",
    "time.sleep(1)\n",
    "driver.get(url)\n",
    "time.sleep(1)\n",
    "print(driver.title)\n",
    "time.sleep(1)\n",
    "body = driver.find_element(By.CSS_SELECTOR, 'body')\n",
    "body.send_keys(Keys.PAGE_DOWN)\n",
    "time.sleep(1)\n",
    "body.send_keys(Keys.PAGE_DOWN)\n",
    "time.sleep(1)\n",
    "body.send_keys(Keys.PAGE_DOWN)"
   ]
  },
  {
   "cell_type": "markdown",
   "metadata": {},
   "source": [
    "5. Extract the review count"
   ]
  },
  {
   "cell_type": "code",
   "execution_count": 22,
   "metadata": {},
   "outputs": [
    {
     "data": {
      "text/plain": [
       "'3192'"
      ]
     },
     "execution_count": 22,
     "metadata": {},
     "output_type": "execute_result"
    }
   ],
   "source": [
    "# use scrapy Selector to extract this information\n",
    "sel = Selector(text = driver.page_source)\n",
    "# pass the HTML code of the page to Scrapy Selector and extract the total review count.\n",
    "review_counts = sel.css('.lister .header span::text').extract_first().replace('.','').split(' ')[0]\n",
    "\n",
    "review_counts"
   ]
  },
  {
   "cell_type": "markdown",
   "metadata": {},
   "source": [
    "6. Load all reviews"
   ]
  },
  {
   "cell_type": "code",
   "execution_count": 26,
   "metadata": {},
   "outputs": [
    {
     "name": "stderr",
     "output_type": "stream",
     "text": [
      "100%|██████████| 127/127 [00:04<00:00, 29.33it/s]\n"
     ]
    },
    {
     "data": {
      "text/plain": [
       "127"
      ]
     },
     "execution_count": 26,
     "metadata": {},
     "output_type": "execute_result"
    }
   ],
   "source": [
    "more_review_pages = int(int(review_counts)/25)\n",
    "\n",
    "counter = 0\n",
    "\n",
    "for i in tqdm(range(more_review_pages)):\n",
    "    try:\n",
    "        css_selector = 'load-more-trigger'\n",
    "        driver.find_element(By.ID, css_selector).click()\n",
    "        counter = counter + 1\n",
    "    except:\n",
    "        counter = counter + 1\n",
    "        pass\n",
    "    \n",
    "counter"
   ]
  },
  {
   "cell_type": "markdown",
   "metadata": {},
   "source": [
    "7. Extract Review from HTML"
   ]
  },
  {
   "cell_type": "code",
   "execution_count": 10,
   "metadata": {},
   "outputs": [
    {
     "name": "stdout",
     "output_type": "stream",
     "text": [
      "nreview_title: Murphy is exceptional\n",
      "nreview_rating: 9\n",
      "nreview_date: 19 July 2023\n",
      "nreview: You'll have to have your wits about you and your brain fully switched on watching Oppenheimer as it could easily get away from a nonattentive viewer. This is intelligent filmmaking which shows it's audience great respect. It fires dialogue packed with information at a relentless pace and jumps to very different times in Oppenheimer's life continuously through it's 3 hour runtime. There are visual clues to guide the viewer through these times but again you'll have to get to grips with these quite quickly. This relentlessness helps to express the urgency with which the US attacked it's chase for the atomic bomb before Germany could do the same. An absolute career best performance from (the consistenly brilliant) Cillian Murphy anchors the film. This is a nailed on Oscar performance. In fact the whole cast are fantastic (apart maybe for the sometimes overwrought Emily Blunt performance). RDJ is also particularly brilliant in a return to proper acting after his decade or so of calling it in. The screenplay is dense and layered (I'd say it was a thick as a Bible), cinematography is quite stark and spare for the most part but imbued with rich, lucious colour in moments (especially scenes with Florence Pugh), the score is beautiful at times but mostly anxious and oppressive, adding to the relentless pacing. The 3 hour runtime flies by. All in all I found it an intense, taxing but highly rewarding watch. This is film making at it finest. A really great watch.\n"
     ]
    }
   ],
   "source": [
    "# We can now extract the review information from the page source.\n",
    "sel2 = Selector(text = driver.page_source)\n",
    "rating = sel2.css('.review-container .rating-other-user-rating span::text').extract_first().strip()\n",
    "review = sel2.css('.text.show-more__control::text').extract_first().strip()\n",
    "review_date = sel2.css('.review-date::text').extract_first().strip()\n",
    "review_title = sel2.css('a.title::text').extract_first().strip()\n",
    "review_url = sel2.css('a.title::attr(href)').extract_first().strip()\n",
    "\n",
    "print('nreview_title:',review_title)\n",
    "print('nreview_rating:',rating)\n",
    "print('nreview_date:',review_date)\n",
    "print('nreview:',review)\n"
   ]
  },
  {
   "cell_type": "code",
   "execution_count": 28,
   "metadata": {},
   "outputs": [
    {
     "name": "stderr",
     "output_type": "stream",
     "text": [
      "  0%|          | 0/1 [00:00<?, ?it/s]\n"
     ]
    },
    {
     "name": "stdout",
     "output_type": "stream",
     "text": [
      "There's nothing like the first in a series, is there? The introduction to the characters, the immersion into the fictional world, the first time you laugh, cry, care, and fear for someone's safety can never be repeated. No matter how many Harry Potter movies they crank out, or if they ever remake them in the future, none will come close to the wonderful first film, Harry Potter and the Sorcerer's Stone.\n",
      "I'm sure everyone has their own childhood memories of reading the Harry Potter books that they'll tell their grandkids about, but I'll never forget going to see the first movie in the theaters. The lights dimmed, John Williams's perfect theme played its first notes as Richard Harris walked down Privet Drive, and everyone in the theater was transported to another world. John Williams's numerous themes, all wonderful and a personification of the wizarding world, took the early movies to another level. As other composers tried their hands at the later films, that quality was missing. There's something truly special about going to see this movie on the big screen, and while the \"magical\" qualities might not all be credited to the music, it's certainly one of them.\n",
      "Welcome to the world of Harry Potter, where if you're a ten-year-old kid who doesn't fit in, you might get a letter delivered by an owl telling you you have magical powers and should go to a special school to hone them. Believe it or not, there are people who watch this movie without reading the books, so a bit of description is necessary. Obviously the stars of the show are the children, who were selected out of millions of other kids to be able to memorize lines, not look in the camera, endear themselves to worldwide audiences, and hopefully act. Daniel Radcliffe, Emma Watson, Rupert Grint, and Tom Felton are so cute and tiny in this first movie, you'll undoubtedly find yourself re-watching it as the years pass just to see them as kids again. I always marvel that child actors train themselves not to look in the camera, so even if their performances aren't perfect, I cut them slack, knowing firsthand how hard it is. And these kids had to dress in funny costumes, recite incantations without laughing, and pretend they're looking at things that were added in post production!\n",
      "Usually, in kids' movies, there's a grown-up or two who add to the cast and make the adult audience members feel less silly that they're watching it. In the Harry Potter movies, everyone wanted to be in them! Throughout the series you'll see a host of familiar faces as \"guest stars\" but the regulars will make special places in your heart. Richard Harris, Maggie Smith, Alan Rickman, and Robbie Coltrane are household names for little kids, because they're so convincing as the kindhearted Dumbledore, the wizened but sentimental McGonagall, the endlessly mimicable Snape, and the jolly Hagrid, kids today can't imagine they've had any other career prior to these movies! Is there any kid who doesn't immediately attribute the word \"earwax\" to Richard Harris, point out striped cats as \"Maggie Smith cats\", mumble \"Shouldn't have said that,\" when they make a mistake, or practice putting pauses in their sentences like Alan Rickman?\n",
      "First movies are so special, since they introduce audiences to a world that will hopefully capture their attention for however many more movies will be made. In J.K. Rowling's fantasy world, there's so much to fall in love with; and in the film adaptation you can really believe it exists. Seeing the Hogwarts structure for the first time creates a special feeling in your heart that can only be recaptured by watching the movie again or going to see the next in the series. The Great Hall, Quidditch, the Sorting Hat, talking portraits, flying lessons, selecting the perfect wand-all these Harry Potter moments are perfectly recreated in the first of a series that saw an entire generation grow up buying toy wands and trying Bertie Bott's Every Flavor Beans.\n"
     ]
    }
   ],
   "source": [
    "import time\n",
    "from selenium import webdriver\n",
    "from selenium.webdriver.common.by import By\n",
    "from selenium.webdriver.common.keys import Keys\n",
    "from scrapy import Selector\n",
    "from tqdm import tqdm\n",
    "\n",
    "# Initialize the WebDriver\n",
    "driver = webdriver.Chrome()\n",
    "url = 'https://www.imdb.com/title/tt0241527/reviews?ref_=tt_sa_3'\n",
    "driver.get(url)\n",
    "\n",
    "# Scroll down to load more reviews\n",
    "for _ in range(3):\n",
    "    driver.find_element(By.TAG_NAME, 'body').send_keys(Keys.PAGE_DOWN)\n",
    "    time.sleep(1)\n",
    "\n",
    "# Extract the review count and calculate the number of pages\n",
    "sel = Selector(text=driver.page_source)\n",
    "review_counts = int(sel.css('.lister .header span::text').re_first(r'\\d+').replace(',', ''))\n",
    "more_review_pages = (review_counts // 25) + 1\n",
    "\n",
    "# Click the \"Load More\" button to load additional reviews\n",
    "for i in tqdm(range(more_review_pages)):\n",
    "    try:\n",
    "        driver.find_element(By.CLASS_NAME, 'load-more-trigger').click()\n",
    "        time.sleep(2)  # Add a slight delay after clicking the button\n",
    "    except:\n",
    "        break  # Break if there are no more reviews to load\n",
    "\n",
    "# Extract the review content\n",
    "reviews = sel.css('.lister-item-content .text::text').extract()\n",
    "\n",
    "# Print the first few reviews as an example\n",
    "len(reviews)\n",
    "\n",
    "# Close the WebDriver\n",
    "driver.quit()\n"
   ]
  },
  {
   "cell_type": "markdown",
   "metadata": {},
   "source": [
    "8. Extract info for all the reviews"
   ]
  },
  {
   "cell_type": "code",
   "execution_count": 11,
   "metadata": {},
   "outputs": [
    {
     "name": "stderr",
     "output_type": "stream",
     "text": [
      "100%|██████████| 150/150 [00:02<00:00, 66.25it/s]\n"
     ]
    }
   ],
   "source": [
    "\n",
    "rating_list = []\n",
    "review_date_list = []\n",
    "review_title_list = []\n",
    "author_list = []\n",
    "review_list = []\n",
    "review_url_list = []\n",
    "error_url_list = []\n",
    "error_msg_list = []\n",
    "reviews = driver.find_elements(By.CSS_SELECTOR, 'div.review-container')\n",
    "for d in tqdm(reviews):\n",
    "    try:\n",
    "        sel2 = Selector(text = d.get_attribute('innerHTML'))\n",
    "        try:\n",
    "            rating = sel2.css('.rating-other-user-rating span::text').extract_first()\n",
    "        except:\n",
    "            rating = np.NaN\n",
    "        try:\n",
    "            review = sel2.css('.text.show-more__control::text').extract_first()\n",
    "        except:\n",
    "            review = np.NaN\n",
    "        try:\n",
    "            review_date = sel2.css('.review-date::text').extract_first()\n",
    "        except:\n",
    "            review_date = np.NaN    \n",
    "        try:\n",
    "            author = sel2.css('.display-name-link a::text').extract_first()\n",
    "        except:\n",
    "            author = np.NaN    \n",
    "        try:\n",
    "            review_title = sel2.css('a.title::text').extract_first()\n",
    "        except:\n",
    "            review_title = np.NaN\n",
    "        try:\n",
    "            review_url = sel2.css('a.title::attr(href)').extract_first()\n",
    "        except:\n",
    "            review_url = np.NaN\n",
    "        rating_list.append(rating)\n",
    "        review_date_list.append(review_date)\n",
    "        review_title_list.append(review_title)\n",
    "        author_list.append(author)\n",
    "        review_list.append(review)\n",
    "        review_url_list.append(review_url)\n",
    "    except Exception as e:\n",
    "        error_url_list.append(url)\n",
    "        error_msg_list.append(e)"
   ]
  },
  {
   "cell_type": "markdown",
   "metadata": {},
   "source": [
    "9. Create a pandas DataFrame with each extracted review"
   ]
  },
  {
   "cell_type": "code",
   "execution_count": 13,
   "metadata": {},
   "outputs": [
    {
     "data": {
      "text/html": [
       "<div>\n",
       "<style scoped>\n",
       "    .dataframe tbody tr th:only-of-type {\n",
       "        vertical-align: middle;\n",
       "    }\n",
       "\n",
       "    .dataframe tbody tr th {\n",
       "        vertical-align: top;\n",
       "    }\n",
       "\n",
       "    .dataframe thead th {\n",
       "        text-align: right;\n",
       "    }\n",
       "</style>\n",
       "<table border=\"1\" class=\"dataframe\">\n",
       "  <thead>\n",
       "    <tr style=\"text-align: right;\">\n",
       "      <th></th>\n",
       "      <th>Review_Date</th>\n",
       "      <th>Rating</th>\n",
       "      <th>Review_Title</th>\n",
       "      <th>Review_Url</th>\n",
       "      <th>Review</th>\n",
       "    </tr>\n",
       "  </thead>\n",
       "  <tbody>\n",
       "    <tr>\n",
       "      <th>0</th>\n",
       "      <td>19 July 2023</td>\n",
       "      <td>9</td>\n",
       "      <td>Murphy is exceptional\\n</td>\n",
       "      <td>/review/rw9199470/?ref_=tt_urv</td>\n",
       "      <td>You'll have to have your wits about you and yo...</td>\n",
       "    </tr>\n",
       "    <tr>\n",
       "      <th>1</th>\n",
       "      <td>20 July 2023</td>\n",
       "      <td>8</td>\n",
       "      <td>A challenging watch to be sure, but a worthwh...</td>\n",
       "      <td>/review/rw9202448/?ref_=tt_urv</td>\n",
       "      <td>One of the most anticipated films of the year ...</td>\n",
       "    </tr>\n",
       "    <tr>\n",
       "      <th>2</th>\n",
       "      <td>20 July 2023</td>\n",
       "      <td>10</td>\n",
       "      <td>A brilliantly layered examination of a man th...</td>\n",
       "      <td>/review/rw9202246/?ref_=tt_urv</td>\n",
       "      <td>\"Oppenheimer\" is a biographical thriller film ...</td>\n",
       "    </tr>\n",
       "    <tr>\n",
       "      <th>3</th>\n",
       "      <td>20 July 2023</td>\n",
       "      <td>10</td>\n",
       "      <td>Nolan delivers a powerfull biopic that shows ...</td>\n",
       "      <td>/review/rw9202357/?ref_=tt_urv</td>\n",
       "      <td>This movie is just... wow! I don't think I hav...</td>\n",
       "    </tr>\n",
       "    <tr>\n",
       "      <th>4</th>\n",
       "      <td>26 July 2023</td>\n",
       "      <td>8</td>\n",
       "      <td>Nolan touches greatness, falls slightly short\\n</td>\n",
       "      <td>/review/rw9216587/?ref_=tt_urv</td>\n",
       "      <td>I was familiar with the Manhattan project and ...</td>\n",
       "    </tr>\n",
       "  </tbody>\n",
       "</table>\n",
       "</div>"
      ],
      "text/plain": [
       "    Review_Date Rating                                       Review_Title  \\\n",
       "0  19 July 2023      9                            Murphy is exceptional\\n   \n",
       "1  20 July 2023      8   A challenging watch to be sure, but a worthwh...   \n",
       "2  20 July 2023     10   A brilliantly layered examination of a man th...   \n",
       "3  20 July 2023     10   Nolan delivers a powerfull biopic that shows ...   \n",
       "4  26 July 2023      8    Nolan touches greatness, falls slightly short\\n   \n",
       "\n",
       "                       Review_Url  \\\n",
       "0  /review/rw9199470/?ref_=tt_urv   \n",
       "1  /review/rw9202448/?ref_=tt_urv   \n",
       "2  /review/rw9202246/?ref_=tt_urv   \n",
       "3  /review/rw9202357/?ref_=tt_urv   \n",
       "4  /review/rw9216587/?ref_=tt_urv   \n",
       "\n",
       "                                              Review  \n",
       "0  You'll have to have your wits about you and yo...  \n",
       "1  One of the most anticipated films of the year ...  \n",
       "2  \"Oppenheimer\" is a biographical thriller film ...  \n",
       "3  This movie is just... wow! I don't think I hav...  \n",
       "4  I was familiar with the Manhattan project and ...  "
      ]
     },
     "execution_count": 13,
     "metadata": {},
     "output_type": "execute_result"
    }
   ],
   "source": [
    "# Create pandas dataframe from the lists of reviews, ratings, titles and dates.\n",
    "\n",
    "review_df = pd.DataFrame({\n",
    "    'Review_Date':review_date_list,\n",
    "    'Rating':rating_list,\n",
    "    'Review_Title':review_title_list,\n",
    "    'Review_Url':review_url_list,\n",
    "    'Review':review_list\n",
    "    })\n",
    "\n",
    "review_df.head()"
   ]
  },
  {
   "cell_type": "markdown",
   "metadata": {},
   "source": [
    "10. Save the content of the DataFrame in a .csv file"
   ]
  },
  {
   "cell_type": "code",
   "execution_count": 14,
   "metadata": {},
   "outputs": [],
   "source": [
    "# Save the dataframe to a csv file.\n",
    "\n",
    "review_df.to_csv('movie_reviews.csv', index=False)"
   ]
  },
  {
   "cell_type": "code",
   "execution_count": 15,
   "metadata": {},
   "outputs": [
    {
     "data": {
      "text/plain": [
       "Review_Date     0\n",
       "Rating          7\n",
       "Review_Title    0\n",
       "Review_Url      0\n",
       "Review          0\n",
       "dtype: int64"
      ]
     },
     "execution_count": 15,
     "metadata": {},
     "output_type": "execute_result"
    }
   ],
   "source": [
    "# Check if there are nan values in the dataframe.\n",
    "\n",
    "review_df.isna().sum()"
   ]
  },
  {
   "cell_type": "code",
   "execution_count": 58,
   "metadata": {},
   "outputs": [
    {
     "data": {
      "text/plain": [
       "0"
      ]
     },
     "execution_count": 58,
     "metadata": {},
     "output_type": "execute_result"
    }
   ],
   "source": [
    "# Check if there are duplicate reviews in the dataframe.\n",
    "\n",
    "review_df.duplicated().sum()"
   ]
  },
  {
   "cell_type": "code",
   "execution_count": 60,
   "metadata": {},
   "outputs": [
    {
     "data": {
      "text/plain": [
       "Review_Date     object\n",
       "Rating          object\n",
       "Review_Title    object\n",
       "Review_Url      object\n",
       "Review          object\n",
       "dtype: object"
      ]
     },
     "execution_count": 60,
     "metadata": {},
     "output_type": "execute_result"
    }
   ],
   "source": [
    "# Check the data types of the dataframe.\n",
    "review_df.dtypes"
   ]
  },
  {
   "cell_type": "code",
   "execution_count": 61,
   "metadata": {},
   "outputs": [],
   "source": [
    "changes_df = pd.read_csv('movie_reviews.csv')"
   ]
  }
 ],
 "metadata": {
  "kernelspec": {
   "display_name": "Python 3",
   "language": "python",
   "name": "python3"
  },
  "language_info": {
   "codemirror_mode": {
    "name": "ipython",
    "version": 3
   },
   "file_extension": ".py",
   "mimetype": "text/x-python",
   "name": "python",
   "nbconvert_exporter": "python",
   "pygments_lexer": "ipython3",
   "version": "3.11.5"
  },
  "orig_nbformat": 4
 },
 "nbformat": 4,
 "nbformat_minor": 2
}
