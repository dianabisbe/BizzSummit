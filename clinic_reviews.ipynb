{
 "cells": [
  {
   "cell_type": "code",
   "execution_count": null,
   "metadata": {},
   "outputs": [],
   "source": [
    "! pip install selenium"
   ]
  },
  {
   "cell_type": "code",
   "execution_count": 5,
   "metadata": {},
   "outputs": [
    {
     "name": "stdout",
     "output_type": "stream",
     "text": [
      "Collecting openpyxl\n",
      "  Downloading openpyxl-3.1.2-py2.py3-none-any.whl (249 kB)\n",
      "\u001b[2K     \u001b[90m━━━━━━━━━━━━━━━━━━━━━━━━━━━━━━━━━━━━━━\u001b[0m \u001b[32m250.0/250.0 kB\u001b[0m \u001b[31m10.2 MB/s\u001b[0m eta \u001b[36m0:00:00\u001b[0m\n",
      "\u001b[?25hCollecting et-xmlfile (from openpyxl)\n",
      "  Downloading et_xmlfile-1.1.0-py3-none-any.whl (4.7 kB)\n",
      "Installing collected packages: et-xmlfile, openpyxl\n",
      "Successfully installed et-xmlfile-1.1.0 openpyxl-3.1.2\n",
      "\n",
      "\u001b[1m[\u001b[0m\u001b[34;49mnotice\u001b[0m\u001b[1;39;49m]\u001b[0m\u001b[39;49m A new release of pip is available: \u001b[0m\u001b[31;49m23.2.1\u001b[0m\u001b[39;49m -> \u001b[0m\u001b[32;49m23.3.1\u001b[0m\n",
      "\u001b[1m[\u001b[0m\u001b[34;49mnotice\u001b[0m\u001b[1;39;49m]\u001b[0m\u001b[39;49m To update, run: \u001b[0m\u001b[32;49mpython -m pip install --upgrade pip\u001b[0m\n"
     ]
    }
   ],
   "source": [
    "! pip install openpyxl"
   ]
  },
  {
   "cell_type": "code",
   "execution_count": 6,
   "metadata": {},
   "outputs": [],
   "source": [
    "import time\n",
    "\n",
    "from selenium import webdriver\n",
    "from selenium.webdriver.chrome.webdriver import WebDriver\n",
    "\n",
    "from openpyxl import Workbook\n",
    "import pandas as pd\n",
    "from env import URL, DriverLocation"
   ]
  },
  {
   "cell_type": "code",
   "execution_count": 8,
   "metadata": {},
   "outputs": [],
   "source": [
    "def get_data(driver):\n",
    "    \"\"\"\n",
    "    this function get main text, score, name\n",
    "    \"\"\"\n",
    "    print('get data...')\n",
    "    more_elemets = driver.find_elements_by_class_name('w8nwRe kyuRq')\n",
    "    for list_more_element in more_elemets:\n",
    "        list_more_element.click()\n",
    "    \n",
    "    elements = driver.find_elements_by_class_name(\n",
    "        'jftiEf')\n",
    "    lst_data = []\n",
    "    for data in elements:\n",
    "        name = data.find_element_by_xpath(\n",
    "            './/a/div[@class=\"d4r55\"]/span').text\n",
    "        text = data.find_element_by_xpath(\n",
    "            './/div[@class=\"MyEned\"]/span[2]').text\n",
    "        score = data.find_element_by_xpath(\n",
    "            './/span[@class=\"kvMYJc\"]').get_attribute(\"aria-label\")\n",
    "\n",
    "        lst_data.append([name + \" from GoogleMaps\", text, score[1]])\n",
    "\n",
    "    return lst_data\n"
   ]
  },
  {
   "cell_type": "code",
   "execution_count": 9,
   "metadata": {},
   "outputs": [],
   "source": [
    "def counter():\n",
    "    result = driver.find_element_by_class_name('jANrlb').find_element_by_class_name('fontBodySmall').text\n",
    "    result = result.replace(',', '')\n",
    "    result = result.split(' ')\n",
    "    result = result[0].split('\\n')\n",
    "    return int(int(result[0])/10)+1"
   ]
  },
  {
   "cell_type": "code",
   "execution_count": 10,
   "metadata": {},
   "outputs": [],
   "source": [
    "def scrolling(counter):\n",
    "    print('scrolling...')\n",
    "    scrollable_div = driver.find_element_by_xpath(\n",
    "        '//div[@class=\"lXJj5c Hk4XGb\"]')\n",
    "    for _i in range(counter):\n",
    "        scrolling = driver.execute_script(\n",
    "            'document.getElementsByClassName(\"dS8AEf\")[0].scrollTop = document.getElementsByClassName(\"dS8AEf\")[0].scrollHeight',\n",
    "            scrollable_div\n",
    "        )\n",
    "        time.sleep(3)"
   ]
  },
  {
   "cell_type": "code",
   "execution_count": 12,
   "metadata": {},
   "outputs": [],
   "source": [
    "def write_to_xlsx(data):\n",
    "    print('write to excel...')\n",
    "    cols = [\"name\", \"comment\", 'rating']\n",
    "    df = pd.DataFrame(data, columns=cols)\n",
    "    df.to_excel('out.xlsx')"
   ]
  }
 ],
 "metadata": {
  "kernelspec": {
   "display_name": "Python 3",
   "language": "python",
   "name": "python3"
  },
  "language_info": {
   "codemirror_mode": {
    "name": "ipython",
    "version": 3
   },
   "file_extension": ".py",
   "mimetype": "text/x-python",
   "name": "python",
   "nbconvert_exporter": "python",
   "pygments_lexer": "ipython3",
   "version": "3.10.8"
  }
 },
 "nbformat": 4,
 "nbformat_minor": 2
}
